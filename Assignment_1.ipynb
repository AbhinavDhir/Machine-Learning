{
 "cells": [
  {
   "cell_type": "code",
   "execution_count": 2,
   "id": "be81f179",
   "metadata": {},
   "outputs": [],
   "source": [
    "import numpy as np \n",
    "import pandas as pd "
   ]
  },
  {
   "cell_type": "code",
   "execution_count": null,
   "id": "cb6803b0",
   "metadata": {},
   "outputs": [
    {
     "data": {
      "text/plain": [
       "array([5, 4, 6, 3, 2, 1])"
      ]
     },
     "execution_count": 10,
     "metadata": {},
     "output_type": "execute_result"
    }
   ],
   "source": [
    "#1.a\n",
    "arr = np.array([1,2,3,6,4,5]) \n",
    "np.flip(arr) \n"
   ]
  },
  {
   "cell_type": "code",
   "execution_count": null,
   "id": "e76d38d4",
   "metadata": {},
   "outputs": [
    {
     "data": {
      "text/plain": [
       "array([1, 2, 3, 2, 4, 5, 1, 2, 3])"
      ]
     },
     "execution_count": 11,
     "metadata": {},
     "output_type": "execute_result"
    }
   ],
   "source": [
    "#1.b\n",
    "array1 = np.array([[1, 2, 3], [2, 4, 5], [1, 2, 3]])\n",
    "array1.flatten()"
   ]
  },
  {
   "cell_type": "code",
   "execution_count": null,
   "id": "9dffd569",
   "metadata": {},
   "outputs": [
    {
     "data": {
      "text/plain": [
       "True"
      ]
     },
     "execution_count": 12,
     "metadata": {},
     "output_type": "execute_result"
    }
   ],
   "source": [
    "#1.c\n",
    "arr1 = np.array([[1, 2], [3, 4]])\n",
    "arr2 = np.array([[1, 2], [3, 4]])\n",
    "np.array_equal(arr1, arr2)\n",
    "\n"
   ]
  },
  {
   "cell_type": "code",
   "execution_count": 17,
   "id": "663d3b43",
   "metadata": {},
   "outputs": [
    {
     "name": "stdout",
     "output_type": "stream",
     "text": [
      "Most frequent: 1\n",
      "Indices: [0 5 7 8 9]\n",
      "Most frequent: 1\n",
      "Indices: [0 1 2]\n"
     ]
    }
   ],
   "source": [
    "#1.d \n",
    "x = np.array([1, 2, 3, 4, 5, 1, 2, 1, 1, 1])\n",
    "y = np.array([1, 1, 1, 2, 3, 4, 2, 4, 3, 3])\n",
    "def most_frequent_value_and_indices(arr):\n",
    "    values, counts = np.unique(arr, return_counts=True)\n",
    "    most_frequent = values[np.argmax(counts)]\n",
    "    indices = np.where(arr == most_frequent)[0]\n",
    "    print(\"Most frequent:\", most_frequent)\n",
    "    print(\"Indices:\", indices) \n",
    "most_frequent_value_and_indices(x)\n",
    "most_frequent_value_and_indices(y)\n",
    "\n",
    "\n",
    "\n",
    "\n"
   ]
  },
  {
   "cell_type": "code",
   "execution_count": 21,
   "id": "35655064",
   "metadata": {},
   "outputs": [
    {
     "name": "stdout",
     "output_type": "stream",
     "text": [
      "45\n",
      "[[14]\n",
      " [16]\n",
      " [15]]\n",
      "[[20  9 16]]\n"
     ]
    }
   ],
   "source": [
    "#1.e\n",
    "gfg = np.matrix('[4, 1, 9; 12, 3, 1; 4, 5, 6]')\n",
    "print(np.sum(gfg) )\n",
    "print(np.sum(gfg, axis=1)) # row wise sum\n",
    "print(np.sum(gfg, axis=0)) # column wise sum\n",
    "\n"
   ]
  },
  {
   "cell_type": "code",
   "execution_count": 22,
   "id": "4b0bb8e8",
   "metadata": {},
   "outputs": [
    {
     "name": "stdout",
     "output_type": "stream",
     "text": [
      "trace 176\n",
      "eigenvalues [98.16835147 28.097044   49.73460452]\n",
      "eigenvectors [[ 0.4574917   0.34637121 -0.15017693]\n",
      " [ 0.28447814 -0.72784061 -0.4852124 ]\n",
      " [ 0.84248058  0.59184038  0.8614034 ]]\n",
      "inverse [[ 0.02404141 -0.00911212 -0.00444671]\n",
      " [-0.01667882  0.02966905  0.0024785 ]\n",
      " [ 0.00631287 -0.01603732  0.01217379]]\n",
      "determinant 137180.0000000001\n"
     ]
    }
   ],
   "source": [
    "#1.f\n",
    "n_array = np.array([[55, 25, 15],\n",
    "                    [30, 44, 2],\n",
    "                    [11, 45, 77]])\n",
    "print(\"trace\",np.trace(n_array)) \n",
    "values, vectors = np.linalg.eig(n_array)\n",
    "print(\"eigenvalues\",values) \n",
    "print(\"eigenvectors\", vectors)\n",
    "print(\"inverse\",np.linalg.inv(n_array))\n",
    "print(\"determinant\",np.linalg.det(n_array))\n",
    "\n"
   ]
  },
  {
   "cell_type": "code",
   "execution_count": 23,
   "id": "6813e284",
   "metadata": {},
   "outputs": [
    {
     "name": "stdout",
     "output_type": "stream",
     "text": [
      "dot [[16 19]\n",
      " [26 31]]\n",
      "cov [[0.5 0.5]\n",
      " [0.5 0.5]]\n",
      "dot [[16 19  5]\n",
      " [26 31  8]\n",
      " [46 55 14]]\n",
      "cov [[2.33333333 2.33333333]\n",
      " [2.33333333 2.33333333]]\n"
     ]
    }
   ],
   "source": [
    "#1.g\n",
    "p1 = [[1, 2], [2, 3]]\n",
    "q1 = [[4, 5], [6, 7]]\n",
    "print(\"dot\",np.dot(p1, q1))\n",
    "print(\"cov\",np.cov(p1, rowvar=False))\n",
    "\n",
    "p2 = [[1, 2], [2, 3], [4, 5]]\n",
    "q2 = [[4, 5, 1], [6, 7, 2]]\n",
    "print(\"dot\", np.dot(p2, q2))\n",
    "print(\"cov\",np.cov(p2, rowvar=False))\n",
    "\n",
    "\n"
   ]
  },
  {
   "cell_type": "code",
   "execution_count": 26,
   "id": "73b8a027",
   "metadata": {},
   "outputs": [
    {
     "name": "stdout",
     "output_type": "stream",
     "text": [
      "inner [[17 52]\n",
      " [13 62]]\n",
      "outer\n",
      "[[ 2 10  0 10 20  6]\n",
      " [ 3 15  0 15 30  9]\n",
      " [ 4 20  0 20 40 12]\n",
      " [ 3 15  0 15 30  9]\n",
      " [ 2 10  0 10 20  6]\n",
      " [ 9 45  0 45 90 27]]\n"
     ]
    }
   ],
   "source": [
    "#1.h\n",
    "x = np.array([[2, 3, 4], [3, 2, 9]])\n",
    "y = np.array([[1, 5, 0], [5, 10, 3]])\n",
    "print(\"inner\" ,np.inner(x, y))\n",
    "print(\"outer\")\n",
    "print(np.outer(x.flatten(), y.flatten()) ) "
   ]
  },
  {
   "cell_type": "code",
   "execution_count": 28,
   "id": "bbd79046",
   "metadata": {},
   "outputs": [
    {
     "name": "stdout",
     "output_type": "stream",
     "text": [
      "absolute [[1 2 3]\n",
      " [4 5 6]]\n",
      "[-3.5 -0.5  2.5]\n",
      "[[-2.75 -0.25 -3.75]\n",
      " [-1.5   1.5  -1.5 ]\n",
      " [-0.25  3.25  0.75]]\n",
      "[[-0.5 -5. ]\n",
      " [ 1.  -4. ]\n",
      " [ 2.   0.5]]\n",
      "-0.5\n",
      "-0.5\n",
      "3.8622100754188224\n"
     ]
    }
   ],
   "source": [
    "#2.a\n",
    "array = np.array([[1, -2, 3], [-4, 5, -6]])\n",
    "print(\"absolute\", np.abs(array))\n",
    "print(np.percentile(array, [25, 50, 75]) )      # Flattened\n",
    "print(np.percentile(array, [25, 50, 75], axis=0))  # Columns\n",
    "print(np.percentile(array, [25, 50, 75], axis=1)) # Rows\n",
    "print(np.mean(array))\n",
    "print(np.median(array))\n",
    "print(np.std(array)) \n"
   ]
  },
  {
   "cell_type": "code",
   "execution_count": 33,
   "id": "1723acdf",
   "metadata": {},
   "outputs": [
    {
     "name": "stdout",
     "output_type": "stream",
     "text": [
      "floor [-2. -2. -1.  0.  1.  1.  3.]\n",
      "ceil [-1. -1. -0.  1.  2.  2.  3.]\n",
      "trunc [-1. -1. -0.  0.  1.  1.  3.]\n",
      "round [-2. -2. -0.  0.  2.  2.  3.]\n"
     ]
    }
   ],
   "source": [
    "#2.b\n",
    "a = np.array([-1.8, -1.6, -0.5, 0.5, 1.6, 1.8, 3.0])\n",
    "print(\"floor\",np.floor(a)) \n",
    "print(\"ceil\",np.ceil(a))\n",
    "print(\"trunc\",np.trunc(a))\n",
    "print(\"round\",np.round(a)) \n"
   ]
  },
  {
   "cell_type": "code",
   "execution_count": 37,
   "id": "789eff5c",
   "metadata": {},
   "outputs": [
    {
     "name": "stdout",
     "output_type": "stream",
     "text": [
      "sort [ 10  16  16  52  54  62 453]\n",
      "argsort [0 3 4 1 5 2 6]\n",
      "4 smallest sort [10 16 16 52]\n",
      "5 largest sort [ 16  52  54  62 453]\n"
     ]
    }
   ],
   "source": [
    "#3.a \n",
    "array = np.array([10, 52, 62, 16, 16, 54, 453])\n",
    "print(\"sort\",np.sort(array))\n",
    "print(\"argsort\",np.argsort(array) )\n",
    "print(\"4 smallest sort\",np.sort(array)[:4])\n",
    "print(\"5 largest sort\",np.sort(array)[-5:])\n"
   ]
  },
  {
   "cell_type": "code",
   "execution_count": 38,
   "id": "a4efca76",
   "metadata": {},
   "outputs": [
    {
     "data": {
      "text/plain": [
       "array([1., 2., 3., 2.])"
      ]
     },
     "execution_count": 38,
     "metadata": {},
     "output_type": "execute_result"
    }
   ],
   "source": [
    "#3.b\n",
    "array = np.array([1.0, 1.2, 2.2, 2.0, 3.0, 2.0])\n",
    "array[np.floor(array) == array]"
   ]
  },
  {
   "cell_type": "code",
   "execution_count": 39,
   "id": "72a17426",
   "metadata": {},
   "outputs": [],
   "source": [
    "#4.a\n",
    "import numpy as np\n",
    "from matplotlib import pyplot as plt\n",
    "import matplotlib.image as mpimg\n",
    "import os\n",
    "\n",
    "def img_to_array(path, save_path='saved_image.txt'):\n",
    "    img = mpimg.imread(path)\n",
    "    \n",
    "    if len(img.shape) == 2:\n",
    "        print(\"Grayscale image\")\n",
    "    elif len(img.shape) == 3:\n",
    "        print(\"RGB image\")\n",
    "    else:\n",
    "        print(\"Unknown format\")\n",
    "    \n",
    "    # Save the array as a text file\n",
    "    np.savetxt(save_path, img.reshape(-1, img.shape[-1]) if img.ndim == 3 else img, fmt='%0.3f')\n",
    "    print(f\"Saved to {save_path}\")\n",
    "    return img"
   ]
  },
  {
   "cell_type": "code",
   "execution_count": 44,
   "id": "53cb3d87",
   "metadata": {},
   "outputs": [
    {
     "name": "stdout",
     "output_type": "stream",
     "text": [
      "RGB image\n",
      "Saved to saved_image.txt\n",
      "[[[0.14901961 0.14901961 0.14901961 1.        ]\n",
      "  [0.14901961 0.14901961 0.14901961 1.        ]\n",
      "  [1.         1.         1.         1.        ]\n",
      "  ...\n",
      "  [1.         1.         1.         1.        ]\n",
      "  [1.         1.         1.         1.        ]\n",
      "  [0.14901961 0.14901961 0.14901961 1.        ]]\n",
      "\n",
      " [[0.14901961 0.14901961 0.14901961 1.        ]\n",
      "  [0.14901961 0.14901961 0.14901961 1.        ]\n",
      "  [1.         1.         1.         1.        ]\n",
      "  ...\n",
      "  [1.         1.         1.         1.        ]\n",
      "  [1.         1.         1.         1.        ]\n",
      "  [0.14901961 0.14901961 0.14901961 1.        ]]\n",
      "\n",
      " [[0.14901961 0.14901961 0.14901961 1.        ]\n",
      "  [0.14901961 0.14901961 0.14901961 1.        ]\n",
      "  [1.         1.         1.         1.        ]\n",
      "  ...\n",
      "  [1.         1.         1.         1.        ]\n",
      "  [1.         1.         1.         1.        ]\n",
      "  [0.14901961 0.14901961 0.14901961 1.        ]]\n",
      "\n",
      " ...\n",
      "\n",
      " [[0.14901961 0.14901961 0.14901961 1.        ]\n",
      "  [0.14901961 0.14901961 0.14901961 1.        ]\n",
      "  [1.         1.         1.         1.        ]\n",
      "  ...\n",
      "  [1.         1.         1.         1.        ]\n",
      "  [1.         1.         1.         1.        ]\n",
      "  [0.14901961 0.14901961 0.14901961 1.        ]]\n",
      "\n",
      " [[0.14901961 0.14901961 0.14901961 1.        ]\n",
      "  [0.14901961 0.14901961 0.14901961 1.        ]\n",
      "  [1.         1.         1.         1.        ]\n",
      "  ...\n",
      "  [1.         1.         1.         1.        ]\n",
      "  [1.         1.         1.         1.        ]\n",
      "  [0.14901961 0.14901961 0.14901961 1.        ]]\n",
      "\n",
      " [[0.14901961 0.14901961 0.14901961 1.        ]\n",
      "  [0.14901961 0.14901961 0.14901961 1.        ]\n",
      "  [0.14901961 0.14901961 0.14901961 1.        ]\n",
      "  ...\n",
      "  [0.14901961 0.14901961 0.14901961 1.        ]\n",
      "  [0.14901961 0.14901961 0.14901961 1.        ]\n",
      "  [0.14901961 0.14901961 0.14901961 1.        ]]]\n"
     ]
    }
   ],
   "source": [
    "img_arr = img_to_array('example.png' )\n",
    "print(img_arr)\n",
    "\n",
    "\n"
   ]
  },
  {
   "cell_type": "code",
   "execution_count": 47,
   "id": "08abf27e",
   "metadata": {},
   "outputs": [
    {
     "name": "stdout",
     "output_type": "stream",
     "text": [
      "[[0.149 0.149 0.149 1.   ]\n",
      " [0.149 0.149 0.149 1.   ]\n",
      " [1.    1.    1.    1.   ]\n",
      " ...\n",
      " [0.149 0.149 0.149 1.   ]\n",
      " [0.149 0.149 0.149 1.   ]\n",
      " [0.149 0.149 0.149 1.   ]]\n"
     ]
    }
   ],
   "source": [
    "#4.b\n",
    "loaded = np.loadtxt('saved_image.txt')\n",
    "print(loaded)\n"
   ]
  },
  {
   "cell_type": "code",
   "execution_count": null,
   "id": "e4f45db6",
   "metadata": {},
   "outputs": [],
   "source": []
  }
 ],
 "metadata": {
  "kernelspec": {
   "display_name": "Python 3",
   "language": "python",
   "name": "python3"
  },
  "language_info": {
   "codemirror_mode": {
    "name": "ipython",
    "version": 3
   },
   "file_extension": ".py",
   "mimetype": "text/x-python",
   "name": "python",
   "nbconvert_exporter": "python",
   "pygments_lexer": "ipython3",
   "version": "3.13.5"
  }
 },
 "nbformat": 4,
 "nbformat_minor": 5
}
